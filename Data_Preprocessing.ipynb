{
 "cells": [
  {
   "cell_type": "code",
   "execution_count": null,
   "id": "243f2372-5f60-48be-a5fc-4c4b966d2162",
   "metadata": {},
   "outputs": [],
   "source": [
    "import os\n",
    "import gzip\n",
    "import shutil\n",
    "import requests\n",
    "from bs4 import BeautifulSoup\n",
    "import time\n",
    "from tqdm import tqdm\n",
    "import random\n",
    "import chardet"
   ]
  },
  {
   "cell_type": "code",
   "execution_count": null,
   "id": "c480027c",
   "metadata": {},
   "outputs": [],
   "source": [
    "## パラメータ設定\n",
    "year = 2024   # データの取得年を指定\n",
    "field_name = \"四鳳南喰赤－\"     # 取得する対局の種類を指定"
   ]
  },
  {
   "cell_type": "code",
   "execution_count": null,
   "id": "2b83aca9-75ee-4b83-b563-f1986f69eeb2",
   "metadata": {},
   "outputs": [],
   "source": [
    "# 2013年以降はgzファイルに圧縮されているので以下の手順で処理\n",
    "\n",
    "# ① フォルダ内の「scc（鳳凰卓）」から始まる全ファイルを抽出\n",
    "input_folder = f\"raw_data/{year}/\"          # https://tenhou.net/sc/raw/ からダウンロードしたログの保存先フォルダ\n",
    "output_folder = f\"extracted_html/{year}/\"   # 牌譜URLを示したhtmlの保存先\n",
    "xml_output_folder = f\"xml_files/{year}/\"    # 牌譜xmlファイルの保存先\n",
    "\n",
    "os.makedirs(output_folder, exist_ok=True)\n",
    "os.makedirs(xml_output_folder, exist_ok=True)"
   ]
  },
  {
   "cell_type": "code",
   "execution_count": null,
   "id": "77d05cad-bdad-4bd6-9af7-743479d6368d",
   "metadata": {},
   "outputs": [],
   "source": [
    "# ② gzipファイルを解凍してHTMLファイルを保存\n",
    "def extract_gzip_files(folder):\n",
    "    html_files = []\n",
    "    for file_name in os.listdir(folder):\n",
    "        if file_name.startswith(\"scc\") and file_name.endswith(\".html.gz\"):\n",
    "            gzip_path = os.path.join(folder, file_name)\n",
    "            html_path = os.path.join(output_folder, file_name[:-3])  # .gzを除く\n",
    "            with gzip.open(gzip_path, \"rb\") as gz_file:\n",
    "                with open(html_path, \"wb\") as html_file:\n",
    "                    shutil.copyfileobj(gz_file, html_file)\n",
    "            html_files.append(html_path)\n",
    "    return html_files\n",
    "\n",
    "html_files = extract_gzip_files(input_folder)"
   ]
  },
  {
   "cell_type": "code",
   "execution_count": null,
   "id": "892e0937-54ce-465a-b1e0-fd29ebfd964c",
   "metadata": {},
   "outputs": [],
   "source": [
    "# ③ HTMLファイルから条件に合う牌譜URLを取得\n",
    "def extract_urls_from_html(html_files):\n",
    "    urls = []\n",
    "    for html_file in html_files:\n",
    "        with open(html_file, \"r\", encoding=\"utf-8\") as file:\n",
    "            soup = BeautifulSoup(file, \"html.parser\")\n",
    "            \n",
    "            # <a>タグの前にあるテキストが「四鳳南喰赤－」であればURLを取得\n",
    "            for element in soup.find_all(string=True):  # テキストノードをチェック\n",
    "                if field_name in element:\n",
    "                    # 見つかったテキストノードの直後の<a>タグを取得\n",
    "                    next_link = element.find_next(\"a\")\n",
    "                    if next_link and \"http://tenhou.net/0/?log=\" in next_link.get(\"href\"):\n",
    "                        urls.append(next_link.get(\"href\"))\n",
    "                    \n",
    "    return urls\n",
    "\n",
    "log_urls = extract_urls_from_html(html_files)\n",
    "\n",
    "# 結果確認\n",
    "print(f\"抽出されたURL数: {len(log_urls)}\")\n",
    "print(log_urls[:5])  # 最初の5件を表示"
   ]
  },
  {
   "cell_type": "code",
   "execution_count": null,
   "id": "377bf94c-6d75-4292-8128-c1ba617652e9",
   "metadata": {},
   "outputs": [],
   "source": [
    "# ④ URLをXMLダウンロード用の形式に変換し、ダウンロード\n",
    "\n",
    "# XMLダウンロード\n",
    "def download_xml(log_urls):\n",
    "    headers = {\n",
    "        \"User-Agent\": \"Mozilla/5.0 (Windows NT 10.0; Win64; x64) AppleWebKit/537.36 (KHTML, like Gecko) Chrome/91.0.4472.124 Safari/537.36\"\n",
    "    }\n",
    "    \n",
    "    # tqdmで進捗バーを表示\n",
    "    for log_url in tqdm(log_urls, desc=\"Downloading XMLs\", unit=\"file\"):\n",
    "        # URLをXML用の形式に変換\n",
    "        xml_url = log_url.replace(\"http://tenhou.net/0/?log=\", \"https://tenhou.net/0/log/?\")\n",
    "        log_id = xml_url.split(\"?\")[-1]  # logIDを抽出\n",
    "        xml_path = os.path.join(xml_output_folder, f\"{log_id}.xml\")\n",
    "        \n",
    "        # 既にダウンロード済みか確認\n",
    "        if os.path.exists(xml_path):\n",
    "            continue  # 既にダウンロードされていればスキップ\n",
    "\n",
    "        try:\n",
    "            # リクエスト送信\n",
    "            response = requests.get(xml_url, headers=headers, timeout=10)\n",
    "            \n",
    "            if response.status_code == 200 and response.content.strip():  # 正常に内容が取得できた場合\n",
    "                with open(xml_path, \"wb\") as file:\n",
    "                    file.write(response.content)\n",
    "            else:\n",
    "                print(f\"Failed to download {xml_url} - Status code: {response.status_code}\")\n",
    "        \n",
    "        except Exception as e:\n",
    "            print(f\"Error downloading {xml_url}: {e}\")\n",
    "        \n",
    "        # サーバー負荷を避けるための遅延\n",
    "        # 必須！ サービスに支障をきたさないよう、天鳳のサーバーに過剰な負荷をかけるのはやめましょう\n",
    "        time.sleep(XXX)\n",
    "\n",
    "# ダウンロードを実行\n",
    "download_xml(log_urls)"
   ]
  }
 ],
 "metadata": {
  "kernelspec": {
   "display_name": "Python 3 (ipykernel)",
   "language": "python",
   "name": "python3"
  },
  "language_info": {
   "codemirror_mode": {
    "name": "ipython",
    "version": 3
   },
   "file_extension": ".py",
   "mimetype": "text/x-python",
   "name": "python",
   "nbconvert_exporter": "python",
   "pygments_lexer": "ipython3",
   "version": "3.12.7"
  }
 },
 "nbformat": 4,
 "nbformat_minor": 5
}
