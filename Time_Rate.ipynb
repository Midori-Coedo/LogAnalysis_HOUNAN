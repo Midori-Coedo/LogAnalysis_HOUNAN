{
 "cells": [
  {
   "cell_type": "code",
   "execution_count": null,
   "id": "a387e8a6-c59b-4cfb-aed9-2e8f66137995",
   "metadata": {},
   "outputs": [],
   "source": [
    "from xml.etree import ElementTree as ET\n",
    "import os\n",
    "import csv"
   ]
  },
  {
   "cell_type": "code",
   "execution_count": null,
   "id": "2fb9c0ea-6cc8-426c-ab5a-c2dd8816214f",
   "metadata": {},
   "outputs": [],
   "source": [
    "# 日付・時間帯とレートを取得\n",
    "\n",
    "# フォルダパスを指定\n",
    "folder_path = \"xml_files/2023\"  # 必要に応じて変更\n",
    "\n",
    "# 時間帯とレートのセットを記録するリスト\n",
    "time_rate_pairs = []\n",
    "\n",
    "# フォルダ内のすべてのXMLファイルを処理\n",
    "for filename in os.listdir(folder_path):\n",
    "    if filename.endswith(\".xml\"):\n",
    "        # ファイル名から年月日と時間帯を抽出（例: 2015010422gm-... → 2015/01/04/22時）\n",
    "        time_part = filename[0:10]  # 1文字目から10文字を取得\n",
    "        hour = int(time_part)  # 数値に変換\n",
    "\n",
    "        # ファイルを読み込む\n",
    "        file_path = os.path.join(folder_path, filename)\n",
    "        with open(file_path, \"r\", encoding=\"utf-8\") as file:\n",
    "            data = file.read()\n",
    "\n",
    "        # XMLをパース\n",
    "        root = ET.fromstring(data)\n",
    "\n",
    "        # UNタグからレートを取得\n",
    "        for un in root.findall(\".//UN\"):\n",
    "            rate = un.get(\"rate\")\n",
    "            if rate:   # UNタグ自体は何度か出現することがあるので、rate属性が存在するものだけ参照\n",
    "                rate_values = [float(r) for r in rate.split(\",\")]\n",
    "                # 時間帯とレートをペアで保存\n",
    "                for rate_value in rate_values:\n",
    "                    time_rate_pairs.append((hour, rate_value))\n",
    "\n",
    "# 結果の確認\n",
    "print(\"時間帯とレートのペア:\")\n",
    "for pair in time_rate_pairs[:10]:  # 最初の10個だけ表示\n",
    "    print(pair)"
   ]
  },
  {
   "cell_type": "code",
   "execution_count": null,
   "id": "b7563dee-9fe2-4e77-a384-a964f676398e",
   "metadata": {},
   "outputs": [],
   "source": [
    "# 出力するCSVファイル名\n",
    "output_file = \"output/2023.csv\"\n",
    "\n",
    "# CSVファイルに書き込む\n",
    "with open(output_file, mode=\"w\", newline=\"\", encoding=\"utf-8\") as file:\n",
    "    writer = csv.writer(file)\n",
    "    # ヘッダー行を追加\n",
    "    writer.writerow([\"Time\", \"Rate\"])\n",
    "    # データ行を追加\n",
    "    writer.writerows(time_rate_pairs)"
   ]
  }
 ],
 "metadata": {
  "kernelspec": {
   "display_name": "Python 3 (ipykernel)",
   "language": "python",
   "name": "python3"
  },
  "language_info": {
   "codemirror_mode": {
    "name": "ipython",
    "version": 3
   },
   "file_extension": ".py",
   "mimetype": "text/x-python",
   "name": "python",
   "nbconvert_exporter": "python",
   "pygments_lexer": "ipython3",
   "version": "3.12.7"
  }
 },
 "nbformat": 4,
 "nbformat_minor": 5
}
